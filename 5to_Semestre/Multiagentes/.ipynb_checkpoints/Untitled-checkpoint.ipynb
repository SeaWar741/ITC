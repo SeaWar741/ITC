{
 "cells": [
  {
   "cell_type": "code",
   "execution_count": 1,
   "id": "ab8b37b4",
   "metadata": {},
   "outputs": [],
   "source": [
    "# Model design\n",
    "import agentpy as ap\n",
    "\n",
    "# Visualization\n",
    "import matplotlib.pyplot as plt\n",
    "import seaborn as sns\n",
    "import IPython"
   ]
  },
  {
   "cell_type": "code",
   "execution_count": 2,
   "id": "b269e647",
   "metadata": {},
   "outputs": [
    {
     "ename": "SyntaxError",
     "evalue": "invalid syntax (Temp/ipykernel_1484/3114466798.py, line 22)",
     "output_type": "error",
     "traceback": [
      "\u001b[1;36m  File \u001b[1;32m\"C:\\Users\\juanc\\AppData\\Local\\Temp/ipykernel_1484/3114466798.py\"\u001b[1;36m, line \u001b[1;32m22\u001b[0m\n\u001b[1;33m    for neighbor in self.roads.neighbors(cars:\u001b[0m\n\u001b[1;37m                                             ^\u001b[0m\n\u001b[1;31mSyntaxError\u001b[0m\u001b[1;31m:\u001b[0m invalid syntax\n"
     ]
    }
   ],
   "source": [
    "class MyAgent(ap.Agent):\n",
    "\n",
    "    def setup(self):\n",
    "        # Initialize an attribute with a parameter\n",
    "        n_cars = int(self.p['Number of Cars'] * (self.p.size**2))\n",
    "        cars = self.agents = ap.AgentList(self, n_cars)\n",
    "        \n",
    "        #Creates grid (roads)\n",
    "        self.roads = ap.Grid(self, [self.p.size]*2, track_empty=True)      \n",
    "        self.roads.add_agents(roads, random=True, empty=True)\n",
    "        \n",
    "        #dynamic variable\n",
    "        #0 = static, 1 = driving\n",
    "        self.agents.condition = 0\n",
    "\n",
    "    def step(self):\n",
    "        #select static cars\n",
    "        static_cars = self.agents.select(self.agents.condition == 1)\n",
    "        \n",
    "        #drive\n",
    "        for car in static_cars:\n",
    "            for neighbor in self.roads.neighbors(cars):\n",
    "                if neighbor.condition == 1:\n",
    "                       neighbor.condition = 1\n",
    "                else:\n",
    "                       neighbor.condition = 0 \n",
    "            car.condition = 0\n",
    "        \n",
    "        if len(static_cars) == 0:\n",
    "            self.stop()\n",
    "                                                 "
   ]
  }
 ],
 "metadata": {
  "kernelspec": {
   "display_name": "Python 3 (ipykernel)",
   "language": "python",
   "name": "python3"
  },
  "language_info": {
   "codemirror_mode": {
    "name": "ipython",
    "version": 3
   },
   "file_extension": ".py",
   "mimetype": "text/x-python",
   "name": "python",
   "nbconvert_exporter": "python",
   "pygments_lexer": "ipython3",
   "version": "3.7.11"
  }
 },
 "nbformat": 4,
 "nbformat_minor": 5
}
