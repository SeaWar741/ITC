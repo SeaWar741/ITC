{
 "cells": [
  {
   "cell_type": "code",
   "execution_count": 2,
   "metadata": {},
   "outputs": [],
   "source": [
    "import agentpy as ap"
   ]
  },
  {
   "cell_type": "code",
   "execution_count": 3,
   "metadata": {},
   "outputs": [],
   "source": [
    "class MyAgent(ap.Agent):\n",
    "    def setup(self):\n",
    "        self.my_attribute = self.p.my_parameter\n",
    "\n",
    "    def agent_method(self):\n",
    "        pass"
   ]
  },
  {
   "cell_type": "code",
   "execution_count": 4,
   "metadata": {},
   "outputs": [],
   "source": [
    "class MyModel(ap.Model):\n",
    "\n",
    "    def setup(self):\n",
    "        \"\"\" Initiate a list of new agents. \"\"\"\n",
    "        self.agents = ap.AgentList(self, self.p.agents, MyAgent)\n",
    "\n",
    "    def step(self):\n",
    "        \"\"\" Call a method for every agent. \"\"\"\n",
    "        self.agents.agent_method()\n",
    "\n",
    "    def update(self):\n",
    "        \"\"\" Record a dynamic variable. \"\"\"\n",
    "        self.agents.record('my_attribute')\n",
    "\n",
    "    def end(self):\n",
    "        \"\"\" Repord an evaluation measure. \"\"\"\n",
    "        self.report('my_measure', 1)"
   ]
  },
  {
   "cell_type": "code",
   "execution_count": null,
   "metadata": {},
   "outputs": [],
   "source": []
  }
 ],
 "metadata": {
  "interpreter": {
   "hash": "0bc5d5995caf465eb09050e478c107882e2b528b18bcc2fc386179344a4993a6"
  },
  "kernelspec": {
   "display_name": "Python 3.7.9 64-bit ('FNews': conda)",
   "name": "python3"
  },
  "language_info": {
   "codemirror_mode": {
    "name": "ipython",
    "version": 3
   },
   "file_extension": ".py",
   "mimetype": "text/x-python",
   "name": "python",
   "nbconvert_exporter": "python",
   "pygments_lexer": "ipython3",
   "version": "3.7.11"
  },
  "orig_nbformat": 4
 },
 "nbformat": 4,
 "nbformat_minor": 2
}
